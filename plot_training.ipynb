{
 "cells": [
  {
   "cell_type": "code",
   "execution_count": null,
   "metadata": {},
   "outputs": [],
   "source": [
    "import numpy as np\n",
    "import matplotlib.pyplot as plt\n",
    "import pandas as pd\n",
    "%matplotlib inline\n",
    "plt.rcParams[\"figure.figsize\"] = (8,5)\n",
    "filename = \"training_info.csv\"\n",
    "eval_name = \"SpaceInvadersNoFrameskip-v4-Eval.csv\"\n",
    "n_steps = 150\n",
    "f = pd.read_csv(filename)\n",
    "g = pd.read_csv(eval_name)\n",
    "mean  = f[\" return\"].rolling(n_steps).mean()\n",
    "deviation = f[\" return\"].rolling(n_steps).std()\n",
    "under_line = (mean-deviation)\n",
    "over_line = (mean+deviation)\n",
    "plt.plot(f[\"training_step\"], mean, linewidth=2, label=\"training return\")\n",
    "plt.fill_between(f[\"training_step\"], under_line, over_line, color='b', alpha=0.1)\n",
    "plt.scatter(g[\"steps\"], g[\"return\"], linewidth=2, color=\"r\", label=\"evaluation return\")\n",
    "plt.xlabel(\"Number of steps\")\n",
    "plt.ylabel(\"Return\")\n",
    "plt.legend()\n",
    "plt.show()"
   ]
  }
 ],
 "metadata": {
  "kernelspec": {
   "display_name": "Python 3 (ipykernel)",
   "language": "python",
   "name": "python3"
  },
  "language_info": {
   "codemirror_mode": {
    "name": "ipython",
    "version": 3
   },
   "file_extension": ".py",
   "mimetype": "text/x-python",
   "name": "python",
   "nbconvert_exporter": "python",
   "pygments_lexer": "ipython3",
   "version": "3.10.12"
  }
 },
 "nbformat": 4,
 "nbformat_minor": 2
}
